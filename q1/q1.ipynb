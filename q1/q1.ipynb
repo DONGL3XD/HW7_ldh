{
 "cells": [
  {
   "cell_type": "code",
   "execution_count": 5,
   "id": "d6cee169",
   "metadata": {},
   "outputs": [
    {
     "name": "stdout",
     "output_type": "stream",
     "text": [
      "Eigenvalues:\n",
      "[-0.37228132  5.37228132]\n",
      "\n",
      "Eigenvectors:\n",
      "[[-0.82456484 -0.41597356]\n",
      " [ 0.56576746 -0.90937671]]\n",
      "\n",
      "Determinant:\n",
      "-2\n",
      "\n",
      "Cross Product:\n",
      "[-3  6 -3]\n",
      "\n",
      "Solution:\n",
      "[-1. -4.  3.]\n"
     ]
    }
   ],
   "source": [
    "import numpy as np\n",
    "\n",
    "def main():\n",
    "    arr = np.array([[1, 2], [3, 4]])  # Given array\n",
    "    eig_val, eig_vec = np.linalg.eig(arr)\n",
    "    determinant = int(np.linalg.det(arr))\n",
    "    print(\"Eigenvalues:\")\n",
    "    print(eig_val)\n",
    "    print(\"\\nEigenvectors:\")\n",
    "    print(eig_vec)\n",
    "    print(\"\\nDeterminant:\")\n",
    "    print(determinant)\n",
    "    \n",
    "    vec1 = np.array([1,2,3])\n",
    "    vec2 = np.array([4,5,6])\n",
    "    output = np.cross(vec1, vec2)\n",
    "    print(\"\\nCross Product:\")\n",
    "    print(output)\n",
    "    \n",
    "    A = np.array([[1,2,-2],[2,1,-5],[1,-4,1]])\n",
    "    b = np.array([-15,-21,18])\n",
    "    x = np.linalg.solve(A,b)\n",
    "    print(\"\\nSolution:\")\n",
    "    print(x)\n",
    "    \n",
    "if __name__ == \"__main__\":\n",
    "    main()"
   ]
  }
 ],
 "metadata": {
  "kernelspec": {
   "display_name": "Python 3 (ipykernel)",
   "language": "python",
   "name": "python3"
  },
  "language_info": {
   "codemirror_mode": {
    "name": "ipython",
    "version": 3
   },
   "file_extension": ".py",
   "mimetype": "text/x-python",
   "name": "python",
   "nbconvert_exporter": "python",
   "pygments_lexer": "ipython3",
   "version": "3.8.5"
  }
 },
 "nbformat": 4,
 "nbformat_minor": 5
}
